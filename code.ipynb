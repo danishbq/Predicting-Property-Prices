{
  "cells": [
    {
      "cell_type": "markdown",
      "metadata": {
        "id": "CazISR8X_HUG"
      },
      "source": [
        "# Multiple Linear Regression"
      ]
    },
    {
      "cell_type": "markdown",
      "metadata": {
        "id": "pOyqYHTk_Q57"
      },
      "source": [
        "## Importing the libraries"
      ]
    },
    {
      "cell_type": "code",
      "execution_count": null,
      "metadata": {
        "id": "T_YHJjnD_Tja"
      },
      "outputs": [],
      "source": [
        "import numpy as np\n",
        "import matplotlib.pyplot as plt\n",
        "import pandas as pd"
      ]
    },
    {
      "cell_type": "markdown",
      "source": [],
      "metadata": {
        "id": "1Bo1xXmrBrG0"
      }
    },
    {
      "cell_type": "markdown",
      "metadata": {
        "id": "vgC61-ah_WIz"
      },
      "source": [
        "## Importing the dataset"
      ]
    },
    {
      "cell_type": "code",
      "execution_count": null,
      "metadata": {
        "id": "UrxyEKGn_ez7"
      },
      "outputs": [],
      "source": [
        "dataset = pd.read_csv('drive/MyDrive/IDM Challenge 2/Training.csv')\n",
        "testing = pd.read_csv('drive/MyDrive/IDM Challenge 2/Testing.csv')\n",
        "X = dataset.iloc[:, :-1]\n",
        "y = dataset.iloc[:, -1]"
      ]
    },
    {
      "cell_type": "code",
      "source": [
        "del X['ID']\n",
        "del testing['ID']"
      ],
      "metadata": {
        "id": "GjjH4WJkB00i"
      },
      "execution_count": null,
      "outputs": []
    },
    {
      "cell_type": "code",
      "source": [],
      "metadata": {
        "id": "WTknTLBCBcrq"
      },
      "execution_count": null,
      "outputs": []
    },
    {
      "cell_type": "code",
      "execution_count": null,
      "metadata": {
        "colab": {
          "base_uri": "https://localhost:8080/"
        },
        "id": "zJ90oO4ToEI9",
        "outputId": "63db7493-6eca-437b-8433-d9f3cb986823"
      },
      "outputs": [
        {
          "output_type": "execute_result",
          "data": {
            "text/plain": [
              "(100000, 106)"
            ]
          },
          "metadata": {},
          "execution_count": 48
        }
      ],
      "source": [
        "X.shape"
      ]
    },
    {
      "cell_type": "code",
      "execution_count": null,
      "metadata": {
        "colab": {
          "base_uri": "https://localhost:8080/"
        },
        "id": "3NVxRunaoEJA",
        "outputId": "78f0e896-89dc-427e-9b94-e7bf49af25d3"
      },
      "outputs": [
        {
          "output_type": "execute_result",
          "data": {
            "text/plain": [
              "(100000,)"
            ]
          },
          "metadata": {},
          "execution_count": 49
        }
      ],
      "source": [
        "y.shape"
      ]
    },
    {
      "cell_type": "code",
      "execution_count": null,
      "metadata": {
        "colab": {
          "base_uri": "https://localhost:8080/"
        },
        "id": "SjNx6TEIuhnk",
        "outputId": "aeeb876f-780f-4701-e48f-7e12155daecc"
      },
      "outputs": [
        {
          "output_type": "execute_result",
          "data": {
            "text/plain": [
              "(30000, 106)"
            ]
          },
          "metadata": {},
          "execution_count": 50
        }
      ],
      "source": [
        "testing.shape"
      ]
    },
    {
      "cell_type": "markdown",
      "metadata": {
        "id": "Ysy9eh8JoEJD"
      },
      "source": [
        "## Removing Null Values"
      ]
    },
    {
      "cell_type": "code",
      "execution_count": null,
      "metadata": {
        "colab": {
          "base_uri": "https://localhost:8080/"
        },
        "id": "Yf0PM6D_uwsy",
        "outputId": "b1f9a868-48d1-4210-872e-734575590ac6"
      },
      "outputs": [
        {
          "output_type": "execute_result",
          "data": {
            "text/plain": [
              "69118"
            ]
          },
          "metadata": {},
          "execution_count": 51
        }
      ],
      "source": [
        "testing.isnull().sum().sum()"
      ]
    },
    {
      "cell_type": "code",
      "execution_count": null,
      "metadata": {
        "id": "nMeVWDEeoEJH"
      },
      "outputs": [],
      "source": [
        "null_cols = X.columns[X.isnull().any()]"
      ]
    },
    {
      "cell_type": "code",
      "execution_count": null,
      "metadata": {
        "id": "d2JkuW-MoEJJ"
      },
      "outputs": [],
      "source": [
        "for column in null_cols:\n",
        "    X[column] = X[column].fillna(X[column].mean())\n",
        "    testing[column] = X[column].fillna(X[column].mean())"
      ]
    },
    {
      "cell_type": "code",
      "execution_count": null,
      "metadata": {
        "colab": {
          "base_uri": "https://localhost:8080/"
        },
        "id": "Aqj3tTvcoEJK",
        "outputId": "858811ff-6731-45e1-857a-1d79d9ed84dc"
      },
      "outputs": [
        {
          "output_type": "execute_result",
          "data": {
            "text/plain": [
              "0"
            ]
          },
          "metadata": {},
          "execution_count": 54
        }
      ],
      "source": [
        "X.isnull().sum().sum()"
      ]
    },
    {
      "cell_type": "code",
      "execution_count": null,
      "metadata": {
        "colab": {
          "base_uri": "https://localhost:8080/"
        },
        "id": "8TygGCoYvD_w",
        "outputId": "6da268ed-de43-45fe-b556-48428006cd42"
      },
      "outputs": [
        {
          "output_type": "execute_result",
          "data": {
            "text/plain": [
              "0"
            ]
          },
          "metadata": {},
          "execution_count": 55
        }
      ],
      "source": [
        "testing.isnull().sum().sum()"
      ]
    },
    {
      "cell_type": "markdown",
      "metadata": {
        "id": "RB0Sg6L-oEJK"
      },
      "source": [
        "## Encoding the categorical varaibles"
      ]
    },
    {
      "cell_type": "code",
      "execution_count": null,
      "metadata": {
        "colab": {
          "base_uri": "https://localhost:8080/"
        },
        "id": "rWYyyTuRoEJL",
        "outputId": "50ec7a78-146e-4f25-f6d7-b69bf8187577"
      },
      "outputs": [
        {
          "output_type": "execute_result",
          "data": {
            "text/plain": [
              "108"
            ]
          },
          "metadata": {},
          "execution_count": 56
        }
      ],
      "source": [
        "len(X['sub_area'].unique())"
      ]
    },
    {
      "cell_type": "code",
      "execution_count": null,
      "metadata": {
        "id": "kpBBkbiwoEJL"
      },
      "outputs": [],
      "source": [
        "cols = X.columns"
      ]
    },
    {
      "cell_type": "code",
      "execution_count": null,
      "metadata": {
        "id": "-6EBL2xSoEJM"
      },
      "outputs": [],
      "source": [
        "num_cols = X._get_numeric_data().columns"
      ]
    },
    {
      "cell_type": "code",
      "execution_count": null,
      "metadata": {
        "id": "pOQu-4SnoEJM"
      },
      "outputs": [],
      "source": [
        "cat_cols = list(set(cols) - set(num_cols))"
      ]
    },
    {
      "cell_type": "code",
      "execution_count": null,
      "metadata": {
        "id": "bOwrv3AMoEJN"
      },
      "outputs": [],
      "source": [
        "cat_col_index = []\n",
        "for col in cat_cols:\n",
        "    col_index = X.columns.get_loc(col)\n",
        "    cat_col_index.append(col_index)"
      ]
    },
    {
      "cell_type": "code",
      "execution_count": null,
      "metadata": {
        "id": "UR6mGMF2oEJO"
      },
      "outputs": [],
      "source": [
        "numeric_col_index = []\n",
        "for col in num_cols:\n",
        "    col_index = X.columns.get_loc(col)\n",
        "    numeric_col_index.append(col_index)"
      ]
    },
    {
      "cell_type": "code",
      "execution_count": null,
      "metadata": {
        "colab": {
          "base_uri": "https://localhost:8080/"
        },
        "id": "qYj-eTlJoEJO",
        "outputId": "e0cbe1c5-1a8f-433f-8807-a2171eb28506"
      },
      "outputs": [
        {
          "output_type": "execute_result",
          "data": {
            "text/plain": [
              "[57, 43, 2, 21, 46, 16, 20, 23, 49, 14, 17, 19, 18, 1, 22]"
            ]
          },
          "metadata": {},
          "execution_count": 62
        }
      ],
      "source": [
        "cat_col_index"
      ]
    },
    {
      "cell_type": "code",
      "execution_count": null,
      "metadata": {
        "id": "qhQE81mAoEJP"
      },
      "outputs": [],
      "source": [
        "from sklearn.compose import ColumnTransformer\n",
        "from sklearn.preprocessing import OneHotEncoder, LabelEncoder\n",
        "ct_1 = ColumnTransformer(transformers=[('encoder', OneHotEncoder(), cat_col_index)], remainder='passthrough'\n",
        "                        , sparse_threshold=0)\n",
        "X = ct_1.fit_transform(X)\n",
        "testing = ct_1.transform(testing)"
      ]
    },
    {
      "cell_type": "code",
      "execution_count": null,
      "metadata": {
        "colab": {
          "base_uri": "https://localhost:8080/"
        },
        "id": "aAqSYwC8oEJQ",
        "outputId": "894b4076-2994-4695-8bf4-f520f6ff8fe9"
      },
      "outputs": [
        {
          "output_type": "execute_result",
          "data": {
            "text/plain": [
              "(100000, 230)"
            ]
          },
          "metadata": {},
          "execution_count": 64
        }
      ],
      "source": [
        "X.shape"
      ]
    },
    {
      "cell_type": "code",
      "execution_count": null,
      "metadata": {
        "colab": {
          "base_uri": "https://localhost:8080/"
        },
        "id": "gqH68vmGvUgB",
        "outputId": "383e98e1-6ff4-4606-f352-0088f6cae2da"
      },
      "outputs": [
        {
          "output_type": "execute_result",
          "data": {
            "text/plain": [
              "(30000, 230)"
            ]
          },
          "metadata": {},
          "execution_count": 65
        }
      ],
      "source": [
        "testing.shape"
      ]
    },
    {
      "cell_type": "markdown",
      "metadata": {
        "id": "k-McZVsQBINc"
      },
      "source": [
        "## Training the Multiple Linear Regression model on the Training set"
      ]
    },
    {
      "cell_type": "code",
      "execution_count": null,
      "metadata": {
        "colab": {
          "base_uri": "https://localhost:8080/"
        },
        "id": "ywPjx0L1BMiD",
        "outputId": "f2bbf1a0-8d60-4066-e13d-b63f1d804831"
      },
      "outputs": [
        {
          "output_type": "execute_result",
          "data": {
            "text/plain": [
              "LinearRegression()"
            ]
          },
          "metadata": {},
          "execution_count": 93
        }
      ],
      "source": [
        "from sklearn.linear_model import LinearRegression\n",
        "regressor = LinearRegression()\n",
        "regressor.fit(X, y)"
      ]
    },
    {
      "cell_type": "markdown",
      "metadata": {
        "id": "olcIaQ5HoEJW"
      },
      "source": [
        "## Training the Random Forest Regression model on the Training set"
      ]
    },
    {
      "cell_type": "code",
      "execution_count": null,
      "metadata": {
        "id": "HuQIeMscoEJX",
        "colab": {
          "base_uri": "https://localhost:8080/"
        },
        "outputId": "cf0d05be-3d0a-4b76-b204-d3edde1bb127"
      },
      "outputs": [
        {
          "output_type": "stream",
          "name": "stderr",
          "text": [
            "[Parallel(n_jobs=1)]: Using backend SequentialBackend with 1 concurrent workers.\n"
          ]
        },
        {
          "output_type": "stream",
          "name": "stdout",
          "text": [
            "building tree 1 of 15\n"
          ]
        },
        {
          "output_type": "stream",
          "name": "stderr",
          "text": [
            "[Parallel(n_jobs=1)]: Done   1 out of   1 | elapsed:    8.9s remaining:    0.0s\n"
          ]
        },
        {
          "output_type": "stream",
          "name": "stdout",
          "text": [
            "building tree 2 of 15\n"
          ]
        },
        {
          "output_type": "stream",
          "name": "stderr",
          "text": [
            "[Parallel(n_jobs=1)]: Done   2 out of   2 | elapsed:   17.6s remaining:    0.0s\n"
          ]
        },
        {
          "output_type": "stream",
          "name": "stdout",
          "text": [
            "building tree 3 of 15\n",
            "building tree 4 of 15\n",
            "building tree 5 of 15\n",
            "building tree 6 of 15\n",
            "building tree 7 of 15\n",
            "building tree 8 of 15\n",
            "building tree 9 of 15\n",
            "building tree 10 of 15\n",
            "building tree 11 of 15\n",
            "building tree 12 of 15\n",
            "building tree 13 of 15\n",
            "building tree 14 of 15\n",
            "building tree 15 of 15\n"
          ]
        },
        {
          "output_type": "stream",
          "name": "stderr",
          "text": [
            "[Parallel(n_jobs=1)]: Done  15 out of  15 | elapsed:  2.3min finished\n"
          ]
        },
        {
          "output_type": "execute_result",
          "data": {
            "text/plain": [
              "RandomForestRegressor(n_estimators=15, random_state=0, verbose=3)"
            ]
          },
          "metadata": {},
          "execution_count": 89
        }
      ],
      "source": [
        "from sklearn.ensemble import RandomForestRegressor\n",
        "from sklearn.feature_selection import SequentialFeatureSelector as sfs\n",
        "regressor = RandomForestRegressor(n_estimators = 15, random_state = 0, verbose=3)\n",
        "regressor.fit(X, y)"
      ]
    },
    {
      "cell_type": "markdown",
      "metadata": {
        "id": "NG6sD1-GuYW8"
      },
      "source": [
        "## Making a CSV file of the results"
      ]
    },
    {
      "cell_type": "code",
      "execution_count": null,
      "metadata": {
        "id": "TQKmwvtdBkyb"
      },
      "outputs": [],
      "source": [
        "final_pred = regressor.predict(testing)"
      ]
    },
    {
      "cell_type": "code",
      "execution_count": null,
      "metadata": {
        "id": "2MBgaVf4ubJQ"
      },
      "outputs": [],
      "source": [
        "temp = pd.read_csv('drive/MyDrive/IDM Challenge 2/Testing.csv')\n",
        "frame = { 'ID': temp['ID'], 'price_doc': final_pred}\n",
        "result = pd.DataFrame(frame)"
      ]
    },
    {
      "cell_type": "code",
      "execution_count": null,
      "metadata": {
        "id": "sEoK3IKLwJVg"
      },
      "outputs": [],
      "source": [
        "result.to_csv('drive/MyDrive/IDM Challenge 2/entry16.csv', index=False)"
      ]
    }
  ],
  "metadata": {
    "accelerator": "TPU",
    "colab": {
      "provenance": []
    },
    "gpuClass": "standard",
    "kernelspec": {
      "display_name": "Python 3",
      "language": "python",
      "name": "python3"
    },
    "language_info": {
      "codemirror_mode": {
        "name": "ipython",
        "version": 3
      },
      "file_extension": ".py",
      "mimetype": "text/x-python",
      "name": "python",
      "nbconvert_exporter": "python",
      "pygments_lexer": "ipython3",
      "version": "3.8.3"
    }
  },
  "nbformat": 4,
  "nbformat_minor": 0
}